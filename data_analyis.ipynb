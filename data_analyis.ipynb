{
  "nbformat": 4,
  "nbformat_minor": 0,
  "metadata": {
    "colab": {
      "name": "Untitled15.ipynb",
      "provenance": []
    },
    "kernelspec": {
      "name": "python3",
      "display_name": "Python 3"
    },
    "language_info": {
      "name": "python"
    }
  },
  "cells": [
    {
      "cell_type": "markdown",
      "source": [
        "# Lets setup our workspace"
      ],
      "metadata": {
        "id": "vNrITvU_-edx"
      }
    },
    {
      "cell_type": "code",
      "execution_count": 1,
      "metadata": {
        "id": "wsAsSOaq8k8N"
      },
      "outputs": [],
      "source": [
        "import numpy as np # linear algebra\n",
        "import pandas as pd # data processing, CSV file I/O (e.g. pd.read_csv)\n",
        "import matplotlib as mpl\n",
        "import matplotlib.pyplot as plt\n",
        "import matplotlib.pyplot as plt2\n",
        "import matplotlib.cm as cm\n",
        "%matplotlib inline\n",
        "from sklearn import preprocessing\n",
        "from subprocess import check_output"
      ]
    },
    {
      "cell_type": "markdown",
      "source": [
        "Add **Data**"
      ],
      "metadata": {
        "id": "ti2VotHp-aOp"
      }
    },
    {
      "cell_type": "code",
      "source": [
        "data = pd.read_csv(\"https://raw.githubusercontent.com/umeshpin/pyws01/main/bcdata.csv\")"
      ],
      "metadata": {
        "id": "Fz7xMfn59Niq"
      },
      "execution_count": 3,
      "outputs": []
    },
    {
      "cell_type": "code",
      "source": [
        "data = data.drop('id',axis=1)\n",
        "data = data.drop('Unnamed: 32',axis=1)"
      ],
      "metadata": {
        "id": "80WxmA00-NxJ"
      },
      "execution_count": 4,
      "outputs": []
    },
    {
      "cell_type": "markdown",
      "source": [
        "# Mapping Benign to 0 and Malignant to 1"
      ],
      "metadata": {
        "id": "Z5u7PxEd-T9V"
      }
    },
    {
      "cell_type": "code",
      "source": [
        "data['diagnosis'] = data['diagnosis'].map({'M':1,'B':0})"
      ],
      "metadata": {
        "id": "DIB6C5Cu-WbV"
      },
      "execution_count": 5,
      "outputs": []
    },
    {
      "cell_type": "markdown",
      "source": [
        "# Scaling the dataset\n",
        "\n"
      ],
      "metadata": {
        "id": "ia0ALbP4-rGN"
      }
    },
    {
      "cell_type": "code",
      "source": [
        "datas = pd.DataFrame(preprocessing.scale(data.iloc[:,1:32]))\n",
        "datas.columns = list(data.iloc[:,1:32].columns)\n",
        "datas['diagnosis'] = data['diagnosis']"
      ],
      "metadata": {
        "id": "znq9g5iA-mu1"
      },
      "execution_count": 6,
      "outputs": []
    },
    {
      "cell_type": "markdown",
      "source": [
        "# Creating the high dimensional feature space X"
      ],
      "metadata": {
        "id": "AbhaZWEG-ygR"
      }
    },
    {
      "cell_type": "code",
      "source": [
        "data_drop = datas.drop('diagnosis',axis=1)\n",
        "\n",
        "X = data_drop.values"
      ],
      "metadata": {
        "id": "S5Wt1y7H-2lN"
      },
      "execution_count": 7,
      "outputs": []
    },
    {
      "cell_type": "markdown",
      "source": [
        "# Create a feed forward neural network with 3 hidden layers"
      ],
      "metadata": {
        "id": "dJl7Fm5k-762"
      }
    },
    {
      "cell_type": "code",
      "source": [
        "from keras.models import Sequential, Model\n",
        "\n",
        "from keras.layers import Dense, Dropout, Input\n",
        "\n",
        "from tensorflow.keras.optimizers import SGD\n",
        "\n",
        "model = Sequential()\n",
        "\n",
        "model.add(Dense(128,activation=\"relu\",input_dim = np.shape(X)[1]))\n",
        "\n",
        "model.add(Dropout(0.25))\n",
        "\n",
        "model.add(Dense(32, activation='relu'))\n",
        "\n",
        "model.add(Dropout(0.25))\n",
        "\n",
        "model.add(Dense(32, activation='relu'))\n",
        "\n",
        "model.add(Dense(1, activation='sigmoid'))\n",
        "\n",
        "sgd = SGD(lr=0.01, decay=1e-6, momentum=0.9, nesterov=True)\n",
        "\n",
        "model.compile(loss='binary_crossentropy', optimizer=sgd, metrics=['accuracy'])"
      ],
      "metadata": {
        "colab": {
          "base_uri": "https://localhost:8080/"
        },
        "id": "Mo0B5xUY-9AJ",
        "outputId": "9d146b44-4d57-46a9-ab51-6c98e72eff00"
      },
      "execution_count": 13,
      "outputs": [
        {
          "output_type": "stream",
          "name": "stderr",
          "text": [
            "/usr/local/lib/python3.7/dist-packages/keras/optimizer_v2/gradient_descent.py:102: UserWarning: The `lr` argument is deprecated, use `learning_rate` instead.\n",
            "  super(SGD, self).__init__(name, **kwargs)\n"
          ]
        }
      ]
    },
    {
      "cell_type": "markdown",
      "source": [
        "**Fit and test the model by randomly splitting it\n",
        "67% of the data for training and 33% of the data for validation**"
      ],
      "metadata": {
        "id": "xctH8BCf_lko"
      }
    },
    {
      "cell_type": "code",
      "source": [
        "probas_ =model.fit(X, datas['diagnosis'], batch_size=5, epochs=10,validation_split=0.33)"
      ],
      "metadata": {
        "colab": {
          "base_uri": "https://localhost:8080/"
        },
        "id": "zq75jiNZ_rhS",
        "outputId": "0cea4c23-450e-4eea-dbf3-130f785270bf"
      },
      "execution_count": 14,
      "outputs": [
        {
          "output_type": "stream",
          "name": "stdout",
          "text": [
            "Epoch 1/10\n",
            "77/77 [==============================] - 2s 7ms/step - loss: 0.2805 - accuracy: 0.9003 - val_loss: 0.0614 - val_accuracy: 0.9894\n",
            "Epoch 2/10\n",
            "77/77 [==============================] - 0s 3ms/step - loss: 0.0914 - accuracy: 0.9738 - val_loss: 0.1017 - val_accuracy: 0.9574\n",
            "Epoch 3/10\n",
            "77/77 [==============================] - 0s 3ms/step - loss: 0.0956 - accuracy: 0.9633 - val_loss: 0.0603 - val_accuracy: 0.9787\n",
            "Epoch 4/10\n",
            "77/77 [==============================] - 0s 3ms/step - loss: 0.0836 - accuracy: 0.9738 - val_loss: 0.0653 - val_accuracy: 0.9840\n",
            "Epoch 5/10\n",
            "77/77 [==============================] - 0s 2ms/step - loss: 0.0767 - accuracy: 0.9738 - val_loss: 0.0443 - val_accuracy: 0.9787\n",
            "Epoch 6/10\n",
            "77/77 [==============================] - 0s 3ms/step - loss: 0.0551 - accuracy: 0.9790 - val_loss: 0.0486 - val_accuracy: 0.9840\n",
            "Epoch 7/10\n",
            "77/77 [==============================] - 0s 2ms/step - loss: 0.0905 - accuracy: 0.9685 - val_loss: 0.0614 - val_accuracy: 0.9787\n",
            "Epoch 8/10\n",
            "77/77 [==============================] - 0s 3ms/step - loss: 0.0534 - accuracy: 0.9843 - val_loss: 0.0325 - val_accuracy: 0.9894\n",
            "Epoch 9/10\n",
            "77/77 [==============================] - 0s 3ms/step - loss: 0.0501 - accuracy: 0.9816 - val_loss: 0.0610 - val_accuracy: 0.9840\n",
            "Epoch 10/10\n",
            "77/77 [==============================] - 0s 2ms/step - loss: 0.0320 - accuracy: 0.9921 - val_loss: 0.0605 - val_accuracy: 0.9840\n"
          ]
        }
      ]
    },
    {
      "cell_type": "markdown",
      "source": [
        "# Cross validation analysis"
      ],
      "metadata": {
        "id": "Qj6BJGZY_yaK"
      }
    },
    {
      "cell_type": "code",
      "source": [
        "from sklearn.model_selection import StratifiedKFold\n",
        "# fix random seed for reproducibility\n",
        "seed = 3\n",
        "np.random.seed(seed)\n",
        "# K fold cross validation (k=2)\n",
        "k = 2\n",
        "kfold = StratifiedKFold(n_splits=2, shuffle=True, random_state=seed)\n",
        "cvscores = []\n",
        "Y = datas['diagnosis']\n",
        "for train, test in kfold.split(X, Y):\n",
        "    # Fit the model\n",
        "    model.fit(X[train], Y[train], epochs=10, batch_size=10, verbose=0)\n",
        "    # evaluate the model\n",
        "    scores = model.evaluate(X[test], Y[test], verbose=0)\n",
        "    # Print scores from each cross validation run\n",
        "    # print(\"%s: %.2f%%\" % (model.metrics_names[1], scores[1]*100))\n",
        "    cvscores.append(scores[1] * 100)\n",
        "    print(\"%d-fold cross validation accuracy -  %.2f%% (+/- %.2f%%)\" % (k,np.mean(cvscores), np.std(cvscores)))"
      ],
      "metadata": {
        "colab": {
          "base_uri": "https://localhost:8080/"
        },
        "id": "_E-kwGug_zM2",
        "outputId": "55b7682e-907c-4829-f8f4-9c978a7415a0"
      },
      "execution_count": 15,
      "outputs": [
        {
          "output_type": "stream",
          "name": "stdout",
          "text": [
            "2-fold cross validation accuracy -  97.54% (+/- 0.00%)\n",
            "2-fold cross validation accuracy -  98.07% (+/- 0.52%)\n"
          ]
        }
      ]
    },
    {
      "cell_type": "markdown",
      "source": [
        "# Plot training & validation accuracy values"
      ],
      "metadata": {
        "id": "ubQWTSxeAG1F"
      }
    }
  ]
}